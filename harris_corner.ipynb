{
 "cells": [
  {
   "cell_type": "markdown",
   "metadata": {
    "id": "Gf7sODLhvy9y"
   },
   "source": [
    "#Lab1_3 Harris Corner Detector.\n",
    "In this lab the Harris Corner Detector is implemented from the method discussed in the lessons.\n",
    "\n",
    "> Corners are detected in local image regions using the corner reponse function $R=Det(M)-\\alpha Trace(M)^2$ which is formed from the Determinate and Trace of the matrix $ M = \\begin{vmatrix} A & C \\\\ C & B \\end{vmatrix}$. M is referred to as the second moment matrix (slide 11).\n",
    "\n",
    "> The second moment matrix nominally consists of the 2nd order partial derivatives of change in intensity of the image e.g. $A = \\frac{\\partial^2{E_{0,0}}}{\\partial{x}^2}$.\n",
    "\n",
    "> The 2nd order partial derivatives can be approximated from products of partial derivatives of the image convolved with a small gaussian window $\\frac{\\partial^2{E_{0,0}}}{\\partial{x}^2} = \\sum_{u,v} 2 w_{u,v} (\\frac{\\partial{I_{u,v}}}{\\partial{x}}\\frac{\\partial{I_{u,v}}}{\\partial{x}} )= X^2\\circledast W$ . (slide 9)\n",
    "\n",
    "> The first order image derivatives can be obtained using any finite difference approximate to the derivative or with by filtering the image with the x and y sobel kernels $\\frac{\\partial{I_{u,v}}}{\\partial{x}}= X=I_{u,v}\\circledast x_{sobel}$ (slide 7)\n",
    "\n",
    "\n",
    "\n",
    "\n"
   ]
  },
  {
   "cell_type": "markdown",
   "metadata": {
    "id": "e3WztF3h9bzN"
   },
   "source": [
    "**HouseKeeping:** Load test image, import required packages (you can swap between the checkerboard test image, which is very useful to determine that the algorithm works properly and other images from the web to try out)"
   ]
  },
  {
   "cell_type": "code",
   "execution_count": 1,
   "metadata": {
    "id": "DnKGRus2vLtm"
   },
   "outputs": [],
   "source": [
    "import numpy as np\n",
    "from scipy import signal\n",
    "import scipy\n",
    "import cv2\n",
    "import matplotlib.pyplot as plt\n",
    "import urllib.request"
   ]
  },
  {
   "cell_type": "code",
   "execution_count": 2,
   "metadata": {
    "id": "v3_2VSvszND5"
   },
   "outputs": [],
   "source": [
    "# function to read images from Web addresses.\n",
    "def url_to_image(url):\n",
    "\tresp = urllib.request.urlopen(url)\n",
    "\ttemp_image = np.asarray(bytearray(resp.read()), dtype=\"uint8\")\n",
    "\ttemp_image = cv2.imdecode(temp_image, cv2.IMREAD_COLOR)\n",
    "\ttemp_image = cv2.cvtColor(temp_image, cv2.COLOR_BGR2RGB) # OpenCV defaults to BGR, but we need RGB here..\n",
    "\treturn temp_image"
   ]
  },
  {
   "cell_type": "code",
   "execution_count": 3,
   "metadata": {
    "id": "RnfRjrypwVP4"
   },
   "outputs": [
    {
     "data": {
      "text/plain": [
       "<matplotlib.image.AxesImage at 0x7f8a7812e6d0>"
      ]
     },
     "execution_count": 3,
     "metadata": {},
     "output_type": "execute_result"
    },
    {
     "data": {
      "image/png": "[encoded data removed]",
      "text/plain": [
       "<Figure size 432x288 with 1 Axes>"
      ]
     },
     "metadata": {
      "needs_background": "light"
     },
     "output_type": "display_data"
    }
   ],
   "source": [
    "# Import and resize corner regions.\n",
    "# read in test image\n",
    "image_url = \"https://upload.wikimedia.org/wikipedia/commons/thumb/5/5b/10x10_checkered_board.svg/800px-10x10_checkered_board.svg.png\"\n",
    "image = url_to_image(image_url)\n",
    "\n",
    "# Rescale & Crop Image\n",
    "HW_trg =512\n",
    "img_H = np.shape(image)[0]\n",
    "img_W = np.shape(image)[1]\n",
    "min_dim_size = min(img_H,img_W)\n",
    "scale_fac = HW_trg/min_dim_size\n",
    "scale_img_H = int(np.ceil(np.shape(image)[0]*scale_fac))\n",
    "scale_img_W = int(np.ceil(np.shape(image)[1]*scale_fac))\n",
    "rescale_image = cv2.resize(image, (scale_img_W,scale_img_H), interpolation = cv2.INTER_AREA)\n",
    "crop_image = rescale_image[0:HW_trg, 0:HW_trg]\n",
    "gray = cv2.cvtColor(crop_image, cv2.COLOR_BGR2GRAY)\n",
    "plt.imshow(gray,'gray')"
   ]
  },
  {
   "cell_type": "markdown",
   "metadata": {
    "id": "fURim5j80z-P"
   },
   "source": [
    "#Harris Algorithm (part 1)\n",
    "In order to be able to form the components of the matrix M we will carry out the following steps:\n",
    "\n",
    "1.   Create function(s) to output gradient (sobel or prewitt) kernels & (small) Gaussian kernel.\n",
    "2.   Determine estimates of 1st order partial derivatives of the image $(\\frac{\\partial{I_{u,v}}}{\\partial{x}},\\frac{\\partial{I_{u,v}}}{\\partial{y}})$ by convolving the image with the gradient (sobel or prewitt) kernels.\n",
    "3.    Obtain products of 1st order partial derivatives (e.g. $XY= \\frac{\\partial{I_{u,v}}}{\\partial{x}} \\frac{\\partial{I_{u,v}}}{\\partial{y}}$).\n",
    "4.  Convolve the products of 1st order partial derivatives with the guassian kernel to obtain components of the second moment matrix $M = \\begin{pmatrix}\n",
    "A & C \\\\\n",
    "C & B\n",
    "\\end{pmatrix}$ (e.g. $ A = X^2 \\circledast W$).\n",
    "\n",
    "Hints:\n",
    " * It is best to consistently use numpy methods (arrays) to complete this lab.\n",
    " * In order to define the [sobel](https://en.wikipedia.org/wiki/Sobel_operator) or [prewitt](https://en.wikipedia.org/wiki/Prewitt_operator) kernels, the [numpy array method](https://numpy.org/doc/stable/reference/generated/numpy.array.html) can be used (A 2D array will be required).\n",
    " *The gaussian kernel can be defined in exactly the same way as lab1_1A (i.e. creating a 1D array over a range of pixels and using outer product to create a 2D array)\n",
    " * In order to perform 2D convolution between the image (or other array) and the kernels, the [scipy convolve 2d](https://docs.scipy.org/doc/scipy/reference/generated/scipy.signal.convolve2d.html) method can be used."
   ]
  },
  {
   "cell_type": "code",
   "execution_count": 4,
   "metadata": {
    "id": "xuV2zMsHyxqf"
   },
   "outputs": [],
   "source": [
    "# 1. Functions to ouptut\n",
    "\n",
    "def grad_kernel():\n",
    "    kernelx = np.array([[-1,0,1],[-2,0,2],[-1,0,1]])\n",
    "    kernely = np.array([[1,2,1],[0,0,0],[-1,-2,-1]])\n",
    "    return [kernelx,kernely]\n",
    "\n",
    "def gauss_kernel(sigma):\n",
    "    rang = (6*sigma) + 1\n",
    "    x = np.arange(-rang/2, rang/2)\n",
    "    gauss_1d= (np.exp(-(x**2)/(2*(sigma**2)))) / sigma*(np.sqrt(2*np.pi))\n",
    "    gauss_2d_kernel = np.outer(gauss_1d,gauss_1d)\n",
    "    return gauss_2d_kernel\n"
   ]
  },
  {
   "cell_type": "markdown",
   "metadata": {},
   "source": [
    "Calling function grad_kernel() and storing the return output in variable kernelx & kernely"
   ]
  },
  {
   "cell_type": "code",
   "execution_count": 5,
   "metadata": {},
   "outputs": [],
   "source": [
    "kernelx,kernely = grad_kernel()"
   ]
  },
  {
   "cell_type": "markdown",
   "metadata": {},
   "source": [
    "Calling function gauss_kernel() and storing the return output in variable gauss_2d_kernel."
   ]
  },
  {
   "cell_type": "code",
   "execution_count": 18,
   "metadata": {},
   "outputs": [
    {
     "data": {
      "text/plain": [
       "<matplotlib.image.AxesImage at 0x7f8a6824f9d0>"
      ]
     },
     "execution_count": 18,
     "metadata": {},
     "output_type": "execute_result"
    },
    {
     "data": {
      "image/png": "[encoded data removed]",
      "text/plain": [
       "<Figure size 432x288 with 1 Axes>"
      ]
     },
     "metadata": {
      "needs_background": "light"
     },
     "output_type": "display_data"
    }
   ],
   "source": [
    "gauss_2d_kernel = gauss_kernel(2)\n",
    "plt.imshow(gauss_2d_kernel,'gray')\n"
   ]
  },
  {
   "cell_type": "code",
   "execution_count": 20,
   "metadata": {
    "id": "G-4dOSvE2iWa"
   },
   "outputs": [],
   "source": [
    "# 2. Obtain estimates of parital derivatives of the image by convolution with sobel kernels\n",
    "\n",
    "x_derivative = scipy.signal.convolve2d(gray,kernelx,mode='same', boundary='fill', fillvalue= 0)\n",
    "y_derivative = scipy.signal.convolve2d(gray,kernely,mode='same', boundary='fill', fillvalue= 0)\n"
   ]
  },
  {
   "cell_type": "code",
   "execution_count": 21,
   "metadata": {},
   "outputs": [
    {
     "data": {
      "text/plain": [
       "<matplotlib.image.AxesImage at 0x7f8a500175b0>"
      ]
     },
     "execution_count": 21,
     "metadata": {},
     "output_type": "execute_result"
    },
    {
     "data": {
      "image/png": "[encoded data removed]",
      "text/plain": [
       "<Figure size 432x288 with 1 Axes>"
      ]
     },
     "metadata": {
      "needs_background": "light"
     },
     "output_type": "display_data"
    }
   ],
   "source": [
    "# Displaying x_derivative \n",
    "\n",
    "plt.imshow(x_derivative,'gray')\n"
   ]
  },
  {
   "cell_type": "code",
   "execution_count": 22,
   "metadata": {},
   "outputs": [
    {
     "data": {
      "text/plain": [
       "<matplotlib.image.AxesImage at 0x7f8a9a2c3760>"
      ]
     },
     "execution_count": 22,
     "metadata": {},
     "output_type": "execute_result"
    },
    {
     "data": {
      "image/png": "[encoded data removed]",
      "text/plain": [
       "<Figure size 432x288 with 1 Axes>"
      ]
     },
     "metadata": {
      "needs_background": "light"
     },
     "output_type": "display_data"
    }
   ],
   "source": [
    "#Displaying y_derivative\n",
    "\n",
    "plt.imshow(y_derivative,'gray')"
   ]
  },
  {
   "cell_type": "code",
   "execution_count": 23,
   "metadata": {
    "id": "m72diHG1D4YM"
   },
   "outputs": [],
   "source": [
    "# 3. Obtain products of 1st order partial derivatives.\n",
    "#### Your Code Here ####\n",
    "\n",
    "XY = np.multiply(x_derivative,y_derivative)\n",
    "X2 = np.multiply(x_derivative,x_derivative)\n",
    "Y2 = np.multiply(y_derivative,y_derivative)"
   ]
  },
  {
   "cell_type": "code",
   "execution_count": 24,
   "metadata": {
    "id": "zmd5P-lmNwLr"
   },
   "outputs": [],
   "source": [
    "# 4. Convlove products with Gaussian\n",
    "# Determine Gaussian Kernel.\n",
    "sigma =2\n",
    "gauss_2d_kernel = gauss_kernel(sigma)\n",
    "\n",
    "#Convolve Products with Gaussian Kernel\n",
    "#### Your Code Here ####\n",
    "A= scipy.signal.convolve2d(X2,gauss_2d_kernel,mode='same', boundary='fill', fillvalue= 0)\n",
    "B= scipy.signal.convolve2d(Y2,gauss_2d_kernel,mode='same', boundary='fill', fillvalue= 0)\n",
    "C= scipy.signal.convolve2d(XY,gauss_2d_kernel,mode='same', boundary='fill', fillvalue= 0)"
   ]
  },
  {
   "cell_type": "code",
   "execution_count": 25,
   "metadata": {},
   "outputs": [
    {
     "data": {
      "text/plain": [
       "<matplotlib.image.AxesImage at 0x7f8a50268370>"
      ]
     },
     "execution_count": 25,
     "metadata": {},
     "output_type": "execute_result"
    },
    {
     "data": {
      "image/png": "[encoded data removed]",
      "text/plain": [
       "<Figure size 432x288 with 1 Axes>"
      ]
     },
     "metadata": {
      "needs_background": "light"
     },
     "output_type": "display_data"
    }
   ],
   "source": [
    "plt.imshow(A,'gray')"
   ]
  },
  {
   "cell_type": "code",
   "execution_count": 26,
   "metadata": {},
   "outputs": [
    {
     "data": {
      "text/plain": [
       "<matplotlib.image.AxesImage at 0x7f8a8b96a490>"
      ]
     },
     "execution_count": 26,
     "metadata": {},
     "output_type": "execute_result"
    },
    {
     "data": {
      "image/png": "[encoded data removed]",
      "text/plain": [
       "<Figure size 432x288 with 1 Axes>"
      ]
     },
     "metadata": {
      "needs_background": "light"
     },
     "output_type": "display_data"
    }
   ],
   "source": [
    "plt.imshow(B,'gray')"
   ]
  },
  {
   "cell_type": "code",
   "execution_count": 27,
   "metadata": {},
   "outputs": [
    {
     "data": {
      "text/plain": [
       "<matplotlib.image.AxesImage at 0x7f8a8b9769a0>"
      ]
     },
     "execution_count": 27,
     "metadata": {},
     "output_type": "execute_result"
    },
    {
     "data": {
      "image/png": "[encoded data removed]",
      "text/plain": [
       "<Figure size 432x288 with 1 Axes>"
      ]
     },
     "metadata": {
      "needs_background": "light"
     },
     "output_type": "display_data"
    }
   ],
   "source": [
    "plt.imshow(C,'gray')"
   ]
  },
  {
   "cell_type": "markdown",
   "metadata": {
    "id": "oMyP9reYDpkE"
   },
   "source": [
    "#Harris Algorithm (part2)\n",
    "\n",
    "1. Find Corner Response Function $R=Det(M)-\\alpha Trace(M)^2$. The corner response function is determined as the difference (with a scaling factor $\\alpha$ between the Determinant and trace of the matrix M. As shown in the slides, the Determinat and Trace can be easily found from the elements of the matix $M$.\n",
    "> $Det(M) = AB-C^2$\n",
    "\n",
    ">> $Trace(M) = A+B$\n",
    "\n",
    "2. Display the coner response function with the given code snippet. Ensure that the corner response function makes sense, do the maxima and minima appear where you expect them?\n",
    "\n",
    "3. Mark corners on the original image.\n",
    " First a threshold value is used to remove the flat regions and edges found in the corner response.\n",
    "The x,y coordinates of local maxima in the image are obtained using the peak_local_max method as shown in the [scikit learn example](https://scikit-image.org/docs/dev/auto_examples/segmentation/plot_peak_local_max.html).  The coordinates can be marked on the image.\n"
   ]
  },
  {
   "cell_type": "code",
   "execution_count": 28,
   "metadata": {
    "id": "oK4MwpV98r6s"
   },
   "outputs": [],
   "source": [
    "# 1. Obtain Corner response Function\n",
    "alpha = 0.04\n",
    "\n",
    "###  Your Code Here #####\n",
    "\n",
    "DET_M = np.multiply(A,B) - np.square(C)\n",
    "TRACE_M = np.add(A,B)\n",
    "\n",
    "response_fun = DET_M - (alpha* np.square(TRACE_M))"
   ]
  },
  {
   "cell_type": "code",
   "execution_count": 29,
   "metadata": {
    "id": "0lHXWnCBKYpT"
   },
   "outputs": [
    {
     "data": {
      "text/plain": [
       "<matplotlib.image.AxesImage at 0x7f8a8b8c9610>"
      ]
     },
     "execution_count": 29,
     "metadata": {},
     "output_type": "execute_result"
    },
    {
     "data": {
      "image/png": "[encoded data removed]",
      "text/plain": [
       "<Figure size 432x288 with 1 Axes>"
      ]
     },
     "metadata": {
      "needs_background": "light"
     },
     "output_type": "display_data"
    }
   ],
   "source": [
    "# 2. Plot Corner response function\n",
    "norm_response = response_fun+abs(np.min(response_fun))\n",
    "norm_response = 255.0*norm_response/np.max(norm_response)\n",
    "plt.imshow(norm_response,'jet')"
   ]
  },
  {
   "cell_type": "code",
   "execution_count": 30,
   "metadata": {
    "id": "XRKxLKnPxfGU"
   },
   "outputs": [
    {
     "name": "stdout",
     "output_type": "stream",
     "text": [
      "512\n",
      "(512, 512)\n",
      "<class 'numpy.ndarray'>\n",
      "[[0. 0. 0. ... 0. 0. 0.]\n",
      " [0. 0. 0. ... 0. 0. 0.]\n",
      " [0. 0. 0. ... 0. 0. 0.]\n",
      " ...\n",
      " [0. 0. 0. ... 0. 0. 0.]\n",
      " [0. 0. 0. ... 0. 0. 0.]\n",
      " [0. 0. 0. ... 0. 0. 0.]]\n"
     ]
    },
    {
     "data": {
      "text/plain": [
       "<matplotlib.image.AxesImage at 0x7f8a78992a00>"
      ]
     },
     "execution_count": 30,
     "metadata": {},
     "output_type": "execute_result"
    },
    {
     "data": {
      "image/png": "[encoded data removed]",
      "text/plain": [
       "<Figure size 432x288 with 1 Axes>"
      ]
     },
     "metadata": {
      "needs_background": "light"
     },
     "output_type": "display_data"
    }
   ],
   "source": [
    "#3a: Apply a threshold to normalised response\n",
    "###  Your Code Here #####\n",
    "\n",
    "print(len(norm_response))\n",
    "print(np.shape(norm_response))\n",
    "print(type(norm_response))\n",
    "\n",
    "threshold_val = 100 \n",
    "\n",
    "thre_norm_response = (norm_response > threshold_val)*norm_response\n",
    "print(thre_norm_response)\n",
    "\n",
    "plt.imshow(thre_norm_response,'gray')\n"
   ]
  },
  {
   "cell_type": "code",
   "execution_count": 31,
   "metadata": {
    "id": "WitjXpicPoUe"
   },
   "outputs": [],
   "source": [
    "\n",
    "# 3b: Find local maximum\n",
    "\n",
    "from skimage.feature import peak_local_max\n",
    "\n",
    "# Comparison between image_max and vals_greater_thresh to find the coordinates of local maxima\n",
    "#coordinates = # n x 2 array of coordinates\n",
    "\n",
    "coordinates = peak_local_max(thre_norm_response, min_distance=20)\n"
   ]
  },
  {
   "cell_type": "code",
   "execution_count": 32,
   "metadata": {
    "id": "oUal4l9dchuE"
   },
   "outputs": [
    {
     "data": {
      "text/plain": [
       "<matplotlib.image.AxesImage at 0x7f8a99efe5b0>"
      ]
     },
     "execution_count": 32,
     "metadata": {},
     "output_type": "execute_result"
    },
    {
     "data": {
      "image/png": "[encoded data removed]",
      "text/plain": [
       "<Figure size 720x720 with 1 Axes>"
      ]
     },
     "metadata": {
      "needs_background": "light"
     },
     "output_type": "display_data"
    }
   ],
   "source": [
    "# plot coordinates on original image\n",
    "for xy_pos in coordinates:\n",
    "   cv2.circle(crop_image, (xy_pos[1],xy_pos[0]), 1, (255,0,0),thickness=2)\n",
    "\n",
    "plt.figure(figsize=(10,10))\n",
    "plt.imshow(crop_image)"
   ]
  },
  {
   "cell_type": "code",
   "execution_count": null,
   "metadata": {},
   "outputs": [],
   "source": []
  }
 ],
 "metadata": {
  "colab": {
   "provenance": []
  },
  "kernelspec": {
   "display_name": "Python 3 (ipykernel)",
   "language": "python",
   "name": "python3"
  },
  "language_info": {
   "codemirror_mode": {
    "name": "ipython",
    "version": 3
   },
   "file_extension": ".py",
   "mimetype": "text/x-python",
   "name": "python",
   "nbconvert_exporter": "python",
   "pygments_lexer": "ipython3",
   "version": "3.9.12"
  }
 },
 "nbformat": 4,
 "nbformat_minor": 1
}
